{
 "cells": [
  {
   "cell_type": "code",
   "execution_count": 1,
   "metadata": {},
   "outputs": [],
   "source": [
    "import pandas as pd"
   ]
  },
  {
   "cell_type": "code",
   "execution_count": 2,
   "metadata": {},
   "outputs": [],
   "source": [
    "series = pd.Series([5, 10, 13, 23])"
   ]
  },
  {
   "cell_type": "code",
   "execution_count": 3,
   "metadata": {},
   "outputs": [
    {
     "data": {
      "text/plain": [
       "0     5\n",
       "1    10\n",
       "2    13\n",
       "3    23\n",
       "dtype: int64"
      ]
     },
     "execution_count": 3,
     "metadata": {},
     "output_type": "execute_result"
    }
   ],
   "source": [
    "series"
   ]
  },
  {
   "cell_type": "code",
   "execution_count": 5,
   "metadata": {},
   "outputs": [
    {
     "data": {
      "text/plain": [
       "pandas.core.series.Series"
      ]
     },
     "execution_count": 5,
     "metadata": {},
     "output_type": "execute_result"
    }
   ],
   "source": [
    "type(series)"
   ]
  },
  {
   "cell_type": "code",
   "execution_count": 6,
   "metadata": {},
   "outputs": [
    {
     "data": {
      "text/plain": [
       "23"
      ]
     },
     "execution_count": 6,
     "metadata": {},
     "output_type": "execute_result"
    }
   ],
   "source": [
    "series[3]"
   ]
  },
  {
   "cell_type": "code",
   "execution_count": 7,
   "metadata": {},
   "outputs": [],
   "source": [
    "chars = pd.Series(['d','a','n','i','e','l'])"
   ]
  },
  {
   "cell_type": "code",
   "execution_count": 8,
   "metadata": {},
   "outputs": [
    {
     "data": {
      "text/plain": [
       "0    d\n",
       "1    a\n",
       "2    n\n",
       "3    i\n",
       "4    e\n",
       "5    l\n",
       "dtype: object"
      ]
     },
     "execution_count": 8,
     "metadata": {},
     "output_type": "execute_result"
    }
   ],
   "source": [
    "chars"
   ]
  },
  {
   "cell_type": "code",
   "execution_count": 9,
   "metadata": {},
   "outputs": [
    {
     "data": {
      "text/html": [
       "<div>\n",
       "<style scoped>\n",
       "    .dataframe tbody tr th:only-of-type {\n",
       "        vertical-align: middle;\n",
       "    }\n",
       "\n",
       "    .dataframe tbody tr th {\n",
       "        vertical-align: top;\n",
       "    }\n",
       "\n",
       "    .dataframe thead th {\n",
       "        text-align: right;\n",
       "    }\n",
       "</style>\n",
       "<table border=\"1\" class=\"dataframe\">\n",
       "  <thead>\n",
       "    <tr style=\"text-align: right;\">\n",
       "      <th></th>\n",
       "      <th>0</th>\n",
       "    </tr>\n",
       "  </thead>\n",
       "  <tbody>\n",
       "    <tr>\n",
       "      <th>0</th>\n",
       "      <td>hola</td>\n",
       "    </tr>\n",
       "    <tr>\n",
       "      <th>1</th>\n",
       "      <td>mundo</td>\n",
       "    </tr>\n",
       "    <tr>\n",
       "      <th>2</th>\n",
       "      <td>chao</td>\n",
       "    </tr>\n",
       "  </tbody>\n",
       "</table>\n",
       "</div>"
      ],
      "text/plain": [
       "       0\n",
       "0   hola\n",
       "1  mundo\n",
       "2   chao"
      ]
     },
     "execution_count": 9,
     "metadata": {},
     "output_type": "execute_result"
    }
   ],
   "source": [
    "lista = [\"hola\",\"mundo\",\"chao\"]\n",
    "df = pd.DataFrame(lista)\n",
    "df"
   ]
  },
  {
   "cell_type": "code",
   "execution_count": 10,
   "metadata": {},
   "outputs": [
    {
     "data": {
      "text/html": [
       "<div>\n",
       "<style scoped>\n",
       "    .dataframe tbody tr th:only-of-type {\n",
       "        vertical-align: middle;\n",
       "    }\n",
       "\n",
       "    .dataframe tbody tr th {\n",
       "        vertical-align: top;\n",
       "    }\n",
       "\n",
       "    .dataframe thead th {\n",
       "        text-align: right;\n",
       "    }\n",
       "</style>\n",
       "<table border=\"1\" class=\"dataframe\">\n",
       "  <thead>\n",
       "    <tr style=\"text-align: right;\">\n",
       "      <th></th>\n",
       "      <th>Nombre</th>\n",
       "      <th>Edad</th>\n",
       "      <th>Pais</th>\n",
       "    </tr>\n",
       "  </thead>\n",
       "  <tbody>\n",
       "    <tr>\n",
       "      <th>0</th>\n",
       "      <td>Juan</td>\n",
       "      <td>10</td>\n",
       "      <td>Mexico</td>\n",
       "    </tr>\n",
       "    <tr>\n",
       "      <th>1</th>\n",
       "      <td>Ana</td>\n",
       "      <td>20</td>\n",
       "      <td>Colombia</td>\n",
       "    </tr>\n",
       "    <tr>\n",
       "      <th>2</th>\n",
       "      <td>Maria</td>\n",
       "      <td>35</td>\n",
       "      <td>Brasil</td>\n",
       "    </tr>\n",
       "  </tbody>\n",
       "</table>\n",
       "</div>"
      ],
      "text/plain": [
       "  Nombre  Edad      Pais\n",
       "0   Juan    10    Mexico\n",
       "1    Ana    20  Colombia\n",
       "2  Maria    35    Brasil"
      ]
     },
     "execution_count": 10,
     "metadata": {},
     "output_type": "execute_result"
    }
   ],
   "source": [
    "data = {\"Nombre\":['Juan','Ana','Maria'],\"Edad\":[10,20,35],\"Pais\":[\"Mexico\",\"Colombia\",\"Brasil\"]}\n",
    "\n",
    "df = pd.DataFrame(data)\n",
    "df"
   ]
  },
  {
   "cell_type": "code",
   "execution_count": 11,
   "metadata": {},
   "outputs": [
    {
     "name": "stdout",
     "output_type": "stream",
     "text": [
      "  Nombre\n",
      "0   Juan\n",
      "1    Ana\n",
      "2  Maria\n"
     ]
    }
   ],
   "source": [
    "print(df[[\"Nombre\"]])"
   ]
  },
  {
   "cell_type": "code",
   "execution_count": 12,
   "metadata": {},
   "outputs": [],
   "source": [
    "data = pd.read_csv('data/canciones.csv')"
   ]
  },
  {
   "cell_type": "code",
   "execution_count": 14,
   "metadata": {},
   "outputs": [
    {
     "data": {
      "text/html": [
       "<div>\n",
       "<style scoped>\n",
       "    .dataframe tbody tr th:only-of-type {\n",
       "        vertical-align: middle;\n",
       "    }\n",
       "\n",
       "    .dataframe tbody tr th {\n",
       "        vertical-align: top;\n",
       "    }\n",
       "\n",
       "    .dataframe thead th {\n",
       "        text-align: right;\n",
       "    }\n",
       "</style>\n",
       "<table border=\"1\" class=\"dataframe\">\n",
       "  <thead>\n",
       "    <tr style=\"text-align: right;\">\n",
       "      <th></th>\n",
       "      <th>id</th>\n",
       "      <th>name</th>\n",
       "      <th>artists</th>\n",
       "      <th>danceability</th>\n",
       "      <th>energy</th>\n",
       "      <th>key</th>\n",
       "      <th>loudness</th>\n",
       "      <th>mode</th>\n",
       "      <th>speechiness</th>\n",
       "      <th>acousticness</th>\n",
       "      <th>instrumentalness</th>\n",
       "      <th>liveness</th>\n",
       "      <th>valence</th>\n",
       "      <th>tempo</th>\n",
       "      <th>duration_ms</th>\n",
       "      <th>time_signature</th>\n",
       "    </tr>\n",
       "  </thead>\n",
       "  <tbody>\n",
       "    <tr>\n",
       "      <th>0</th>\n",
       "      <td>6DCZcSspjsKoFjzjrWoCd</td>\n",
       "      <td>God's Plan</td>\n",
       "      <td>Drake</td>\n",
       "      <td>0.754</td>\n",
       "      <td>0.449</td>\n",
       "      <td>7.0</td>\n",
       "      <td>-9.211</td>\n",
       "      <td>1.0</td>\n",
       "      <td>0.1090</td>\n",
       "      <td>0.0332</td>\n",
       "      <td>0.000083</td>\n",
       "      <td>0.552</td>\n",
       "      <td>0.357</td>\n",
       "      <td>77.169</td>\n",
       "      <td>198973.0</td>\n",
       "      <td>4.0</td>\n",
       "    </tr>\n",
       "    <tr>\n",
       "      <th>1</th>\n",
       "      <td>3ee8Jmje8o58CHK66QrVC</td>\n",
       "      <td>SAD!</td>\n",
       "      <td>XXXTENTACION</td>\n",
       "      <td>0.740</td>\n",
       "      <td>0.613</td>\n",
       "      <td>8.0</td>\n",
       "      <td>-4.880</td>\n",
       "      <td>1.0</td>\n",
       "      <td>0.1450</td>\n",
       "      <td>0.2580</td>\n",
       "      <td>0.003720</td>\n",
       "      <td>0.123</td>\n",
       "      <td>0.473</td>\n",
       "      <td>75.023</td>\n",
       "      <td>166606.0</td>\n",
       "      <td>4.0</td>\n",
       "    </tr>\n",
       "    <tr>\n",
       "      <th>2</th>\n",
       "      <td>0e7ipj03S05BNilyu5bRz</td>\n",
       "      <td>rockstar (feat. 21 Savage)</td>\n",
       "      <td>Post Malone</td>\n",
       "      <td>0.587</td>\n",
       "      <td>0.535</td>\n",
       "      <td>5.0</td>\n",
       "      <td>-6.090</td>\n",
       "      <td>0.0</td>\n",
       "      <td>0.0898</td>\n",
       "      <td>0.1170</td>\n",
       "      <td>0.000066</td>\n",
       "      <td>0.131</td>\n",
       "      <td>0.140</td>\n",
       "      <td>159.847</td>\n",
       "      <td>218147.0</td>\n",
       "      <td>4.0</td>\n",
       "    </tr>\n",
       "    <tr>\n",
       "      <th>3</th>\n",
       "      <td>3swc6WTsr7rl9DqQKQA55</td>\n",
       "      <td>Psycho (feat. Ty Dolla $ign)</td>\n",
       "      <td>Post Malone</td>\n",
       "      <td>0.739</td>\n",
       "      <td>0.559</td>\n",
       "      <td>8.0</td>\n",
       "      <td>-8.011</td>\n",
       "      <td>1.0</td>\n",
       "      <td>0.1170</td>\n",
       "      <td>0.5800</td>\n",
       "      <td>0.000000</td>\n",
       "      <td>0.112</td>\n",
       "      <td>0.439</td>\n",
       "      <td>140.124</td>\n",
       "      <td>221440.0</td>\n",
       "      <td>4.0</td>\n",
       "    </tr>\n",
       "    <tr>\n",
       "      <th>4</th>\n",
       "      <td>2G7V7zsVDxg1yRsu7Ew9R</td>\n",
       "      <td>In My Feelings</td>\n",
       "      <td>Drake</td>\n",
       "      <td>0.835</td>\n",
       "      <td>0.626</td>\n",
       "      <td>1.0</td>\n",
       "      <td>-5.833</td>\n",
       "      <td>1.0</td>\n",
       "      <td>0.1250</td>\n",
       "      <td>0.0589</td>\n",
       "      <td>0.000060</td>\n",
       "      <td>0.396</td>\n",
       "      <td>0.350</td>\n",
       "      <td>91.030</td>\n",
       "      <td>217925.0</td>\n",
       "      <td>4.0</td>\n",
       "    </tr>\n",
       "  </tbody>\n",
       "</table>\n",
       "</div>"
      ],
      "text/plain": [
       "                      id                          name       artists  \\\n",
       "0  6DCZcSspjsKoFjzjrWoCd                    God's Plan         Drake   \n",
       "1  3ee8Jmje8o58CHK66QrVC                          SAD!  XXXTENTACION   \n",
       "2  0e7ipj03S05BNilyu5bRz    rockstar (feat. 21 Savage)   Post Malone   \n",
       "3  3swc6WTsr7rl9DqQKQA55  Psycho (feat. Ty Dolla $ign)   Post Malone   \n",
       "4  2G7V7zsVDxg1yRsu7Ew9R                In My Feelings         Drake   \n",
       "\n",
       "   danceability  energy  key  loudness  mode  speechiness  acousticness  \\\n",
       "0         0.754   0.449  7.0    -9.211   1.0       0.1090        0.0332   \n",
       "1         0.740   0.613  8.0    -4.880   1.0       0.1450        0.2580   \n",
       "2         0.587   0.535  5.0    -6.090   0.0       0.0898        0.1170   \n",
       "3         0.739   0.559  8.0    -8.011   1.0       0.1170        0.5800   \n",
       "4         0.835   0.626  1.0    -5.833   1.0       0.1250        0.0589   \n",
       "\n",
       "   instrumentalness  liveness  valence    tempo  duration_ms  time_signature  \n",
       "0          0.000083     0.552    0.357   77.169     198973.0             4.0  \n",
       "1          0.003720     0.123    0.473   75.023     166606.0             4.0  \n",
       "2          0.000066     0.131    0.140  159.847     218147.0             4.0  \n",
       "3          0.000000     0.112    0.439  140.124     221440.0             4.0  \n",
       "4          0.000060     0.396    0.350   91.030     217925.0             4.0  "
      ]
     },
     "execution_count": 14,
     "metadata": {},
     "output_type": "execute_result"
    }
   ],
   "source": [
    "data.head(5)"
   ]
  },
  {
   "cell_type": "code",
   "execution_count": 15,
   "metadata": {},
   "outputs": [
    {
     "data": {
      "text/plain": [
       "0                            God's Plan\n",
       "1                                  SAD!\n",
       "2            rockstar (feat. 21 Savage)\n",
       "3          Psycho (feat. Ty Dolla $ign)\n",
       "4                        In My Feelings\n",
       "                    ...                \n",
       "95                    Rewrite The Stars\n",
       "96    I Miss You (feat. Julia Michaels)\n",
       "97                           No Brainer\n",
       "98          Dusk Till Dawn - Radio Edit\n",
       "99                           Be Alright\n",
       "Name: name, Length: 100, dtype: object"
      ]
     },
     "execution_count": 15,
     "metadata": {},
     "output_type": "execute_result"
    }
   ],
   "source": [
    "data.name"
   ]
  },
  {
   "cell_type": "code",
   "execution_count": 19,
   "metadata": {},
   "outputs": [
    {
     "data": {
      "text/plain": [
       "0            Drake\n",
       "1     XXXTENTACION\n",
       "2      Post Malone\n",
       "3      Post Malone\n",
       "4            Drake\n",
       "          ...     \n",
       "95       Zac Efron\n",
       "96    Clean Bandit\n",
       "97       DJ Khaled\n",
       "98            ZAYN\n",
       "99      Dean Lewis\n",
       "Name: artists, Length: 100, dtype: object"
      ]
     },
     "execution_count": 19,
     "metadata": {},
     "output_type": "execute_result"
    }
   ],
   "source": [
    "artista = data.artists\n",
    "artista"
   ]
  },
  {
   "cell_type": "code",
   "execution_count": 20,
   "metadata": {},
   "outputs": [
    {
     "data": {
      "text/plain": [
       "id                  7dt6x5M1jzdTEt8oCbisT\n",
       "name                           Better Now\n",
       "artists                       Post Malone\n",
       "danceability                         0.68\n",
       "energy                              0.563\n",
       "key                                  10.0\n",
       "loudness                           -5.843\n",
       "mode                                  1.0\n",
       "speechiness                        0.0454\n",
       "acousticness                        0.354\n",
       "instrumentalness                      0.0\n",
       "liveness                            0.136\n",
       "valence                             0.374\n",
       "tempo                             145.028\n",
       "duration_ms                      231267.0\n",
       "time_signature                        4.0\n",
       "Name: 5, dtype: object"
      ]
     },
     "execution_count": 20,
     "metadata": {},
     "output_type": "execute_result"
    }
   ],
   "source": [
    "info = data.iloc[5]\n",
    "info"
   ]
  },
  {
   "cell_type": "code",
   "execution_count": 21,
   "metadata": {},
   "outputs": [
    {
     "data": {
      "text/html": [
       "<div>\n",
       "<style scoped>\n",
       "    .dataframe tbody tr th:only-of-type {\n",
       "        vertical-align: middle;\n",
       "    }\n",
       "\n",
       "    .dataframe tbody tr th {\n",
       "        vertical-align: top;\n",
       "    }\n",
       "\n",
       "    .dataframe thead th {\n",
       "        text-align: right;\n",
       "    }\n",
       "</style>\n",
       "<table border=\"1\" class=\"dataframe\">\n",
       "  <thead>\n",
       "    <tr style=\"text-align: right;\">\n",
       "      <th></th>\n",
       "      <th>id</th>\n",
       "      <th>name</th>\n",
       "      <th>artists</th>\n",
       "      <th>danceability</th>\n",
       "      <th>energy</th>\n",
       "      <th>key</th>\n",
       "      <th>loudness</th>\n",
       "      <th>mode</th>\n",
       "      <th>speechiness</th>\n",
       "      <th>acousticness</th>\n",
       "      <th>instrumentalness</th>\n",
       "      <th>liveness</th>\n",
       "      <th>valence</th>\n",
       "      <th>tempo</th>\n",
       "      <th>duration_ms</th>\n",
       "      <th>time_signature</th>\n",
       "    </tr>\n",
       "  </thead>\n",
       "  <tbody>\n",
       "    <tr>\n",
       "      <th>95</th>\n",
       "      <td>630sXRhIcfwr2e4RdNtjK</td>\n",
       "      <td>Rewrite The Stars</td>\n",
       "      <td>Zac Efron</td>\n",
       "      <td>0.684</td>\n",
       "      <td>0.619</td>\n",
       "      <td>10.0</td>\n",
       "      <td>-7.005</td>\n",
       "      <td>1.0</td>\n",
       "      <td>0.0386</td>\n",
       "      <td>0.0716</td>\n",
       "      <td>0.000000</td>\n",
       "      <td>0.1220</td>\n",
       "      <td>0.2840</td>\n",
       "      <td>125.046</td>\n",
       "      <td>217440.0</td>\n",
       "      <td>4.0</td>\n",
       "    </tr>\n",
       "    <tr>\n",
       "      <th>96</th>\n",
       "      <td>2xmrfQpmS2iJExTlklLoA</td>\n",
       "      <td>I Miss You (feat. Julia Michaels)</td>\n",
       "      <td>Clean Bandit</td>\n",
       "      <td>0.638</td>\n",
       "      <td>0.658</td>\n",
       "      <td>3.0</td>\n",
       "      <td>-6.318</td>\n",
       "      <td>1.0</td>\n",
       "      <td>0.0456</td>\n",
       "      <td>0.2450</td>\n",
       "      <td>0.000004</td>\n",
       "      <td>0.0919</td>\n",
       "      <td>0.3300</td>\n",
       "      <td>105.076</td>\n",
       "      <td>205748.0</td>\n",
       "      <td>4.0</td>\n",
       "    </tr>\n",
       "    <tr>\n",
       "      <th>97</th>\n",
       "      <td>5WvAo7DNuPRmk4APhdPzi</td>\n",
       "      <td>No Brainer</td>\n",
       "      <td>DJ Khaled</td>\n",
       "      <td>0.552</td>\n",
       "      <td>0.760</td>\n",
       "      <td>0.0</td>\n",
       "      <td>-4.706</td>\n",
       "      <td>1.0</td>\n",
       "      <td>0.3420</td>\n",
       "      <td>0.0733</td>\n",
       "      <td>0.000000</td>\n",
       "      <td>0.0865</td>\n",
       "      <td>0.6390</td>\n",
       "      <td>135.702</td>\n",
       "      <td>260000.0</td>\n",
       "      <td>5.0</td>\n",
       "    </tr>\n",
       "    <tr>\n",
       "      <th>98</th>\n",
       "      <td>1j4kHkkpqZRBwE0A4CN4Y</td>\n",
       "      <td>Dusk Till Dawn - Radio Edit</td>\n",
       "      <td>ZAYN</td>\n",
       "      <td>0.258</td>\n",
       "      <td>0.437</td>\n",
       "      <td>11.0</td>\n",
       "      <td>-6.593</td>\n",
       "      <td>0.0</td>\n",
       "      <td>0.0390</td>\n",
       "      <td>0.1010</td>\n",
       "      <td>0.000001</td>\n",
       "      <td>0.1060</td>\n",
       "      <td>0.0967</td>\n",
       "      <td>180.043</td>\n",
       "      <td>239000.0</td>\n",
       "      <td>4.0</td>\n",
       "    </tr>\n",
       "    <tr>\n",
       "      <th>99</th>\n",
       "      <td>3EPXxR3ImUwfayaurPi3c</td>\n",
       "      <td>Be Alright</td>\n",
       "      <td>Dean Lewis</td>\n",
       "      <td>0.553</td>\n",
       "      <td>0.586</td>\n",
       "      <td>11.0</td>\n",
       "      <td>-6.319</td>\n",
       "      <td>1.0</td>\n",
       "      <td>0.0362</td>\n",
       "      <td>0.6970</td>\n",
       "      <td>0.000000</td>\n",
       "      <td>0.0813</td>\n",
       "      <td>0.4430</td>\n",
       "      <td>126.684</td>\n",
       "      <td>196373.0</td>\n",
       "      <td>4.0</td>\n",
       "    </tr>\n",
       "  </tbody>\n",
       "</table>\n",
       "</div>"
      ],
      "text/plain": [
       "                       id                               name       artists  \\\n",
       "95  630sXRhIcfwr2e4RdNtjK                  Rewrite The Stars     Zac Efron   \n",
       "96  2xmrfQpmS2iJExTlklLoA  I Miss You (feat. Julia Michaels)  Clean Bandit   \n",
       "97  5WvAo7DNuPRmk4APhdPzi                         No Brainer     DJ Khaled   \n",
       "98  1j4kHkkpqZRBwE0A4CN4Y        Dusk Till Dawn - Radio Edit          ZAYN   \n",
       "99  3EPXxR3ImUwfayaurPi3c                         Be Alright    Dean Lewis   \n",
       "\n",
       "    danceability  energy   key  loudness  mode  speechiness  acousticness  \\\n",
       "95         0.684   0.619  10.0    -7.005   1.0       0.0386        0.0716   \n",
       "96         0.638   0.658   3.0    -6.318   1.0       0.0456        0.2450   \n",
       "97         0.552   0.760   0.0    -4.706   1.0       0.3420        0.0733   \n",
       "98         0.258   0.437  11.0    -6.593   0.0       0.0390        0.1010   \n",
       "99         0.553   0.586  11.0    -6.319   1.0       0.0362        0.6970   \n",
       "\n",
       "    instrumentalness  liveness  valence    tempo  duration_ms  time_signature  \n",
       "95          0.000000    0.1220   0.2840  125.046     217440.0             4.0  \n",
       "96          0.000004    0.0919   0.3300  105.076     205748.0             4.0  \n",
       "97          0.000000    0.0865   0.6390  135.702     260000.0             5.0  \n",
       "98          0.000001    0.1060   0.0967  180.043     239000.0             4.0  \n",
       "99          0.000000    0.0813   0.4430  126.684     196373.0             4.0  "
      ]
     },
     "execution_count": 21,
     "metadata": {},
     "output_type": "execute_result"
    }
   ],
   "source": [
    "data.tail()"
   ]
  },
  {
   "cell_type": "code",
   "execution_count": 22,
   "metadata": {},
   "outputs": [
    {
     "data": {
      "text/plain": [
       "(100, 16)"
      ]
     },
     "execution_count": 22,
     "metadata": {},
     "output_type": "execute_result"
    }
   ],
   "source": [
    "data.shape"
   ]
  },
  {
   "cell_type": "code",
   "execution_count": 23,
   "metadata": {},
   "outputs": [
    {
     "data": {
      "text/plain": [
       "<bound method DataFrame.info of                        id                               name       artists  \\\n",
       "0   6DCZcSspjsKoFjzjrWoCd                         God's Plan         Drake   \n",
       "1   3ee8Jmje8o58CHK66QrVC                               SAD!  XXXTENTACION   \n",
       "2   0e7ipj03S05BNilyu5bRz         rockstar (feat. 21 Savage)   Post Malone   \n",
       "3   3swc6WTsr7rl9DqQKQA55       Psycho (feat. Ty Dolla $ign)   Post Malone   \n",
       "4   2G7V7zsVDxg1yRsu7Ew9R                     In My Feelings         Drake   \n",
       "..                    ...                                ...           ...   \n",
       "95  630sXRhIcfwr2e4RdNtjK                  Rewrite The Stars     Zac Efron   \n",
       "96  2xmrfQpmS2iJExTlklLoA  I Miss You (feat. Julia Michaels)  Clean Bandit   \n",
       "97  5WvAo7DNuPRmk4APhdPzi                         No Brainer     DJ Khaled   \n",
       "98  1j4kHkkpqZRBwE0A4CN4Y        Dusk Till Dawn - Radio Edit          ZAYN   \n",
       "99  3EPXxR3ImUwfayaurPi3c                         Be Alright    Dean Lewis   \n",
       "\n",
       "    danceability  energy   key  loudness  mode  speechiness  acousticness  \\\n",
       "0          0.754   0.449   7.0    -9.211   1.0       0.1090        0.0332   \n",
       "1          0.740   0.613   8.0    -4.880   1.0       0.1450        0.2580   \n",
       "2          0.587   0.535   5.0    -6.090   0.0       0.0898        0.1170   \n",
       "3          0.739   0.559   8.0    -8.011   1.0       0.1170        0.5800   \n",
       "4          0.835   0.626   1.0    -5.833   1.0       0.1250        0.0589   \n",
       "..           ...     ...   ...       ...   ...          ...           ...   \n",
       "95         0.684   0.619  10.0    -7.005   1.0       0.0386        0.0716   \n",
       "96         0.638   0.658   3.0    -6.318   1.0       0.0456        0.2450   \n",
       "97         0.552   0.760   0.0    -4.706   1.0       0.3420        0.0733   \n",
       "98         0.258   0.437  11.0    -6.593   0.0       0.0390        0.1010   \n",
       "99         0.553   0.586  11.0    -6.319   1.0       0.0362        0.6970   \n",
       "\n",
       "    instrumentalness  liveness  valence    tempo  duration_ms  time_signature  \n",
       "0           0.000083    0.5520   0.3570   77.169     198973.0             4.0  \n",
       "1           0.003720    0.1230   0.4730   75.023     166606.0             4.0  \n",
       "2           0.000066    0.1310   0.1400  159.847     218147.0             4.0  \n",
       "3           0.000000    0.1120   0.4390  140.124     221440.0             4.0  \n",
       "4           0.000060    0.3960   0.3500   91.030     217925.0             4.0  \n",
       "..               ...       ...      ...      ...          ...             ...  \n",
       "95          0.000000    0.1220   0.2840  125.046     217440.0             4.0  \n",
       "96          0.000004    0.0919   0.3300  105.076     205748.0             4.0  \n",
       "97          0.000000    0.0865   0.6390  135.702     260000.0             5.0  \n",
       "98          0.000001    0.1060   0.0967  180.043     239000.0             4.0  \n",
       "99          0.000000    0.0813   0.4430  126.684     196373.0             4.0  \n",
       "\n",
       "[100 rows x 16 columns]>"
      ]
     },
     "execution_count": 23,
     "metadata": {},
     "output_type": "execute_result"
    }
   ],
   "source": [
    "data.info"
   ]
  },
  {
   "cell_type": "code",
   "execution_count": 25,
   "metadata": {},
   "outputs": [
    {
     "data": {
      "text/plain": [
       "count    100.000000\n",
       "mean     119.904180\n",
       "std       28.795984\n",
       "min       64.934000\n",
       "25%       95.730750\n",
       "50%      120.116000\n",
       "75%      140.022750\n",
       "max      198.075000\n",
       "Name: tempo, dtype: float64"
      ]
     },
     "execution_count": 25,
     "metadata": {},
     "output_type": "execute_result"
    }
   ],
   "source": [
    "data[\"tempo\"].describe()"
   ]
  },
  {
   "cell_type": "code",
   "execution_count": null,
   "metadata": {},
   "outputs": [],
   "source": []
  }
 ],
 "metadata": {
  "interpreter": {
   "hash": "e404b59586357c814bc0d3940e75d6763c00a48753b225b81f7716971b8e1741"
  },
  "kernelspec": {
   "display_name": "Python 3.8.10 64-bit",
   "name": "python3"
  },
  "language_info": {
   "codemirror_mode": {
    "name": "ipython",
    "version": 3
   },
   "file_extension": ".py",
   "mimetype": "text/x-python",
   "name": "python",
   "nbconvert_exporter": "python",
   "pygments_lexer": "ipython3",
   "version": "3.8.10"
  },
  "orig_nbformat": 4
 },
 "nbformat": 4,
 "nbformat_minor": 2
}
